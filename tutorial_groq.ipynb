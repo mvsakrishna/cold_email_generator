{
 "cells": [
  {
   "cell_type": "code",
   "execution_count": 1,
   "metadata": {},
   "outputs": [],
   "source": [
    "from langchain_groq import ChatGroq"
   ]
  },
  {
   "cell_type": "code",
   "execution_count": 4,
   "metadata": {},
   "outputs": [
    {
     "name": "stdout",
     "output_type": "stream",
     "text": [
      "Hinduism is one of the oldest and largest religions in the world, with a rich and diverse history spanning over 4,000 years. It is a complex and multifaceted faith that encompasses a wide range of philosophical, spiritual, and cultural practices.\n",
      "\n",
      "**Core Beliefs:**\n",
      "\n",
      "1. **Dharma**: The concept of dharma refers to the natural order of the universe and the moral principles that govern human behavior. Hindus believe that every individual has a unique dharma, or duty, that they must fulfill in order to achieve spiritual growth and self-realization.\n",
      "2. **Karma**: The law of karma states that every action has consequences, and that the effects of our actions will determine our future experiences. Hindus believe that the goal of life is to accumulate good karma and avoid bad karma.\n",
      "3. **Reincarnation**: Hindus believe in the cycle of birth, death, and rebirth, known as samsara. The soul, or atman, is reborn into a new body based on the accumulated karma from past lives.\n",
      "4. **Moksha**: The ultimate goal of Hinduism is to achieve moksha, or liberation from the cycle of rebirth. This is achieved through spiritual practices, such as meditation, yoga, and devotion to a higher power.\n",
      "\n",
      "**Deities and Gods:**\n",
      "\n",
      "Hinduism is a polytheistic faith, with a vast pantheon of gods and goddesses. Some of the most important deities include:\n",
      "\n",
      "1. **Brahma**: The creator god, responsible for the creation of the universe.\n",
      "2. **Vishnu**: The preserver god, who maintains the order of the universe and protects his devotees.\n",
      "3. **Shiva**: The destroyer god, who destroys the old to make way for the new.\n",
      "4. **Ganesha**: The remover of obstacles, often depicted as a elephant-headed god.\n",
      "5. **Durga**: The goddess of strength and protection, often depicted as a fierce warrior.\n",
      "\n",
      "**Scriptures:**\n",
      "\n",
      "The Hindu scriptures are known as the Vedas and the Upanishads. The Vedas are a collection of hymns, prayers, and rituals, while the Upanishads are philosophical texts that explore the nature of the universe and the self.\n",
      "\n",
      "**Practices:**\n",
      "\n",
      "Hinduism is a diverse faith, with many different practices and traditions. Some common practices include:\n",
      "\n",
      "1. **Puja**: Worship and offerings to the gods, often performed in temples or at home.\n",
      "2. **Yoga**: A physical, mental, and spiritual practice that aims to unite the individual with the divine.\n",
      "3. **Meditation**: A practice that aims to quiet the mind and focus on the inner self.\n",
      "4. **Festivals**: Hindus celebrate many festivals throughout the year, such as Diwali, Holi, and Navratri.\n",
      "\n",
      "**Branches:**\n",
      "\n",
      "Hinduism has many different branches and sects, including:\n",
      "\n",
      "1. **Vaishnavism**: A tradition that worships Vishnu as the supreme god.\n",
      "2. **Shaivism**: A tradition that worships Shiva as the supreme god.\n",
      "3. **Shaktism**: A tradition that worships the goddess as the supreme power.\n",
      "4. **Smartism**: A tradition that worships all the gods and goddesses as equal.\n",
      "\n",
      "Overall, Hinduism is a complex and multifaceted faith that encompasses a wide range of philosophical, spiritual, and cultural practices.\n"
     ]
    }
   ],
   "source": [
    "llm = ChatGroq(\n",
    "    model_name=\"llama-3.1-70b-versatile\",\n",
    "    temperature=0,\n",
    "    groq_api_key=\"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\"\n",
    ")\n",
    "\n",
    "# Invoke the LLM and store the result in a variable\n",
    "response = llm.invoke(\"what is hinduism\")\n",
    "\n",
    "# Print the response content\n",
    "print(response.content)"
   ]
  },
  {
   "cell_type": "code",
   "execution_count": null,
   "metadata": {},
   "outputs": [],
   "source": []
  }
 ],
 "metadata": {
  "kernelspec": {
   "display_name": "Python 3",
   "language": "python",
   "name": "python3"
  },
  "language_info": {
   "codemirror_mode": {
    "name": "ipython",
    "version": 3
   },
   "file_extension": ".py",
   "mimetype": "text/x-python",
   "name": "python",
   "nbconvert_exporter": "python",
   "pygments_lexer": "ipython3",
   "version": "3.12.1"
  }
 },
 "nbformat": 4,
 "nbformat_minor": 2
}
