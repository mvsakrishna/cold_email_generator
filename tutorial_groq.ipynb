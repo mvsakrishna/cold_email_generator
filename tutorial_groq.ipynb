{
 "cells": [
  {
   "cell_type": "code",
   "execution_count": 1,
   "metadata": {},
   "outputs": [],
   "source": [
    "from langchain_groq import ChatGroq"
   ]
  },
  {
   "cell_type": "code",
   "execution_count": 4,
   "metadata": {},
   "outputs": [
    {
     "name": "stdout",
     "output_type": "stream",
     "text": [
      "Here are the top 5 AI companies and their CEOs:\n",
      "\n",
      "1. **NVIDIA** - Jensen Huang (CEO)\n",
      "NVIDIA is a leader in AI computing hardware and software. Their GPUs are widely used for deep learning and AI applications.\n",
      "\n",
      "2. **DeepMind** - Demis Hassabis (Co-Founder and CEO)\n",
      "DeepMind is a UK-based AI research organization that has developed several AI technologies, including AlphaGo, which defeated a human world champion in Go.\n",
      "\n",
      "3. **Microsoft AI** - Satya Nadella (CEO of Microsoft)\n",
      "Microsoft AI is a division of Microsoft that focuses on developing AI technologies, including machine learning, natural language processing, and computer vision.\n",
      "\n",
      "4. **Google AI** - Sundar Pichai (CEO of Alphabet and Google)\n",
      "Google AI is a division of Google that focuses on developing AI technologies, including machine learning, natural language processing, and computer vision.\n",
      "\n",
      "5. **IBM Watson** - Arvind Krishna (CEO of IBM)\n",
      "IBM Watson is a division of IBM that focuses on developing AI technologies, including natural language processing, machine learning, and computer vision.\n",
      "\n",
      "Note: The ranking of top AI companies can vary depending on the source and criteria used. These companies are generally recognized as leaders in the AI industry, but the ranking may change over time.\n"
     ]
    }
   ],
   "source": [
    "llm = ChatGroq(\n",
    "    model_name=\"llama-3.1-70b-versatile\",\n",
    "    temperature=0,\n",
    "    groq_api_key=\"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\"\n",
    ")\n",
    "\n",
    "# Invoke the LLM and store the result in a variable\n",
    "response = llm.invoke(\"Top 5 AI Companies and it's CEO's\")\n",
    "\n",
    "# Print the response content\n",
    "print(response.content)"
   ]
  }
 ],
 "metadata": {
  "kernelspec": {
   "display_name": "Python 3",
   "language": "python",
   "name": "python3"
  },
  "language_info": {
   "codemirror_mode": {
    "name": "ipython",
    "version": 3
   },
   "file_extension": ".py",
   "mimetype": "text/x-python",
   "name": "python",
   "nbconvert_exporter": "python",
   "pygments_lexer": "ipython3",
   "version": "3.12.1"
  }
 },
 "nbformat": 4,
 "nbformat_minor": 2
}
